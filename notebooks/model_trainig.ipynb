{
 "cells": [
  {
   "cell_type": "code",
   "execution_count": null,
   "metadata": {
    "vscode": {
     "languageId": "plaintext"
    }
   },
   "outputs": [],
   "source": [
    "from sklearn.ensemble import RandomForestClassifier\n",
    "import numpy as np\n",
    "\n",
    "# Suponiendo que X son los puntos clave y y las etiquetas de los gestos\n",
    "X = np.array([[...], [...]])  # Cada lista representa los puntos clave para un gesto\n",
    "y = np.array(['saludo', 'gracias',''])\n",
    "\n",
    "model = RandomForestClassifier()\n",
    "model.fit(X, y)\n",
    "\n",
    "# Guarda el modelo\n",
    "import joblib\n",
    "joblib.dump(model, 'app/ml_models/gesture_classifier.pkl')\n"
   ]
  }
 ],
 "metadata": {
  "language_info": {
   "name": "python"
  }
 },
 "nbformat": 4,
 "nbformat_minor": 2
}
